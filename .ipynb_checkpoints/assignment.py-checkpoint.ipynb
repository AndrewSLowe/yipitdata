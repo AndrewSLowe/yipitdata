{
 "cells": [
  {
   "cell_type": "markdown",
   "metadata": {},
   "source": [
    "# Load in Dataframe"
   ]
  },
  {
   "cell_type": "code",
   "execution_count": 1,
   "metadata": {},
   "outputs": [],
   "source": [
    "import pandas as pd\n",
    "\n",
    "file_name = r'/Users/andrewlowe/yipitdata/Q4_2013_Groupon_North_America_Data_XLSX.xlsx'\n",
    "all_data = pd.read_excel(file_name)"
   ]
  },
  {
   "cell_type": "code",
   "execution_count": 49,
   "metadata": {},
   "outputs": [
    {
     "name": "stdout",
     "output_type": "stream",
     "text": [
      "(138534, 7)\n"
     ]
    },
    {
     "data": {
      "text/html": [
       "<div>\n",
       "<style scoped>\n",
       "    .dataframe tbody tr th:only-of-type {\n",
       "        vertical-align: middle;\n",
       "    }\n",
       "\n",
       "    .dataframe tbody tr th {\n",
       "        vertical-align: top;\n",
       "    }\n",
       "\n",
       "    .dataframe thead th {\n",
       "        text-align: right;\n",
       "    }\n",
       "</style>\n",
       "<table border=\"1\" class=\"dataframe\">\n",
       "  <thead>\n",
       "    <tr style=\"text-align: right;\">\n",
       "      <th></th>\n",
       "      <th>Deal ID</th>\n",
       "      <th>Units Sold</th>\n",
       "      <th>Billings</th>\n",
       "      <th>Start Date</th>\n",
       "      <th>Deal URL</th>\n",
       "      <th>Segment</th>\n",
       "      <th>Inventory Type</th>\n",
       "    </tr>\n",
       "  </thead>\n",
       "  <tbody>\n",
       "    <tr>\n",
       "      <th>0</th>\n",
       "      <td>gr-millevois-tire-service-center</td>\n",
       "      <td>0</td>\n",
       "      <td>0</td>\n",
       "      <td>2011-11-21</td>\n",
       "      <td>http://www.groupon.com/deals/gr-millevois-tire...</td>\n",
       "      <td>Local</td>\n",
       "      <td>Third - Party</td>\n",
       "    </tr>\n",
       "    <tr>\n",
       "      <th>1</th>\n",
       "      <td>gr-manakeesh-cafe-bakery</td>\n",
       "      <td>0</td>\n",
       "      <td>0</td>\n",
       "      <td>2011-11-21</td>\n",
       "      <td>http://www.groupon.com/deals/gr-manakeesh-cafe...</td>\n",
       "      <td>Local</td>\n",
       "      <td>Third - Party</td>\n",
       "    </tr>\n",
       "    <tr>\n",
       "      <th>2</th>\n",
       "      <td>gr-phoenix-salon-and-spa</td>\n",
       "      <td>0</td>\n",
       "      <td>0</td>\n",
       "      <td>2011-11-21</td>\n",
       "      <td>http://www.groupon.com/deals/gr-phoenix-salon-...</td>\n",
       "      <td>Local</td>\n",
       "      <td>Third - Party</td>\n",
       "    </tr>\n",
       "    <tr>\n",
       "      <th>3</th>\n",
       "      <td>gr-hands-in-motion</td>\n",
       "      <td>0</td>\n",
       "      <td>0</td>\n",
       "      <td>2011-11-21</td>\n",
       "      <td>http://www.groupon.com/deals/gr-hands-in-motion</td>\n",
       "      <td>Local</td>\n",
       "      <td>Third - Party</td>\n",
       "    </tr>\n",
       "    <tr>\n",
       "      <th>4</th>\n",
       "      <td>dc-fd2-bartending-college-allentown-reading</td>\n",
       "      <td>87</td>\n",
       "      <td>4,253</td>\n",
       "      <td>2012-06-06</td>\n",
       "      <td>http://www.groupon.com/deals/dc-fd2-bartending...</td>\n",
       "      <td>Local</td>\n",
       "      <td>Third - Party</td>\n",
       "    </tr>\n",
       "  </tbody>\n",
       "</table>\n",
       "</div>"
      ],
      "text/plain": [
       "                                       Deal ID  Units Sold  Billings  \\\n",
       "0             gr-millevois-tire-service-center           0         0   \n",
       "1                     gr-manakeesh-cafe-bakery           0         0   \n",
       "2                     gr-phoenix-salon-and-spa           0         0   \n",
       "3                           gr-hands-in-motion           0         0   \n",
       "4  dc-fd2-bartending-college-allentown-reading          87     4,253   \n",
       "\n",
       "  Start Date                                           Deal URL Segment  \\\n",
       "0 2011-11-21  http://www.groupon.com/deals/gr-millevois-tire...   Local   \n",
       "1 2011-11-21  http://www.groupon.com/deals/gr-manakeesh-cafe...   Local   \n",
       "2 2011-11-21  http://www.groupon.com/deals/gr-phoenix-salon-...   Local   \n",
       "3 2011-11-21    http://www.groupon.com/deals/gr-hands-in-motion   Local   \n",
       "4 2012-06-06  http://www.groupon.com/deals/dc-fd2-bartending...   Local   \n",
       "\n",
       "  Inventory Type  \n",
       "0  Third - Party  \n",
       "1  Third - Party  \n",
       "2  Third - Party  \n",
       "3  Third - Party  \n",
       "4  Third - Party  "
      ]
     },
     "execution_count": 49,
     "metadata": {},
     "output_type": "execute_result"
    }
   ],
   "source": [
    "df = all_data\n",
    "print(df.shape)\n",
    "df.head()"
   ]
  },
  {
   "cell_type": "code",
   "execution_count": 3,
   "metadata": {},
   "outputs": [],
   "source": [
    "df['Start Date'] = pd.to_datetime(df['Start Date'])"
   ]
  },
  {
   "cell_type": "code",
   "execution_count": 4,
   "metadata": {},
   "outputs": [
    {
     "data": {
      "text/plain": [
       "Deal ID               0\n",
       "Units Sold        26774\n",
       "Billings          26774\n",
       "Start Date            0\n",
       "Deal URL              0\n",
       "Segment               0\n",
       "Inventory Type        0\n",
       "dtype: int64"
      ]
     },
     "execution_count": 4,
     "metadata": {},
     "output_type": "execute_result"
    }
   ],
   "source": [
    "# There are the same number of 0s in both rows!\n",
    "\n",
    "(df == 0).astype(int).sum(axis=0)"
   ]
  },
  {
   "cell_type": "code",
   "execution_count": 5,
   "metadata": {},
   "outputs": [
    {
     "name": "stdout",
     "output_type": "stream",
     "text": [
      "(4374, 7)\n"
     ]
    },
    {
     "data": {
      "text/html": [
       "<div>\n",
       "<style scoped>\n",
       "    .dataframe tbody tr th:only-of-type {\n",
       "        vertical-align: middle;\n",
       "    }\n",
       "\n",
       "    .dataframe tbody tr th {\n",
       "        vertical-align: top;\n",
       "    }\n",
       "\n",
       "    .dataframe thead th {\n",
       "        text-align: right;\n",
       "    }\n",
       "</style>\n",
       "<table border=\"1\" class=\"dataframe\">\n",
       "  <thead>\n",
       "    <tr style=\"text-align: right;\">\n",
       "      <th></th>\n",
       "      <th>Deal ID</th>\n",
       "      <th>Units Sold</th>\n",
       "      <th>Billings</th>\n",
       "      <th>Start Date</th>\n",
       "      <th>Deal URL</th>\n",
       "      <th>Segment</th>\n",
       "      <th>Inventory Type</th>\n",
       "    </tr>\n",
       "  </thead>\n",
       "  <tbody>\n",
       "    <tr>\n",
       "      <th>15</th>\n",
       "      <td>ultimate-tint</td>\n",
       "      <td>-8.30</td>\n",
       "      <td>-1236.70</td>\n",
       "      <td>2012-08-20</td>\n",
       "      <td>http://www.groupon.com/deals/ultimate-tint</td>\n",
       "      <td>Local</td>\n",
       "      <td>Third - Party</td>\n",
       "    </tr>\n",
       "    <tr>\n",
       "      <th>16</th>\n",
       "      <td>sterling-house-cleaners-barrie-on</td>\n",
       "      <td>-5.15</td>\n",
       "      <td>-437.75</td>\n",
       "      <td>2012-08-20</td>\n",
       "      <td>http://www.groupon.com/deals/sterling-house-cl...</td>\n",
       "      <td>Local</td>\n",
       "      <td>Third - Party</td>\n",
       "    </tr>\n",
       "    <tr>\n",
       "      <th>40</th>\n",
       "      <td>the-vanity-center-3</td>\n",
       "      <td>-10.90</td>\n",
       "      <td>-643.10</td>\n",
       "      <td>2012-09-03</td>\n",
       "      <td>http://www.groupon.com/deals/the-vanity-center-3</td>\n",
       "      <td>Local</td>\n",
       "      <td>Third - Party</td>\n",
       "    </tr>\n",
       "    <tr>\n",
       "      <th>81</th>\n",
       "      <td>sunrise-hair-studio-3</td>\n",
       "      <td>-10.90</td>\n",
       "      <td>-752.10</td>\n",
       "      <td>2012-09-14</td>\n",
       "      <td>http://www.groupon.com/deals/sunrise-hair-stud...</td>\n",
       "      <td>Local</td>\n",
       "      <td>Third - Party</td>\n",
       "    </tr>\n",
       "    <tr>\n",
       "      <th>125</th>\n",
       "      <td>trio-restaurant-bakery-market</td>\n",
       "      <td>-110.50</td>\n",
       "      <td>-3155.60</td>\n",
       "      <td>2012-09-18</td>\n",
       "      <td>http://www.groupon.com/deals/trio-restaurant-b...</td>\n",
       "      <td>Local</td>\n",
       "      <td>Third - Party</td>\n",
       "    </tr>\n",
       "    <tr>\n",
       "      <th>...</th>\n",
       "      <td>...</td>\n",
       "      <td>...</td>\n",
       "      <td>...</td>\n",
       "      <td>...</td>\n",
       "      <td>...</td>\n",
       "      <td>...</td>\n",
       "      <td>...</td>\n",
       "    </tr>\n",
       "    <tr>\n",
       "      <th>109373</th>\n",
       "      <td>xtreme-clean-llc</td>\n",
       "      <td>-2.90</td>\n",
       "      <td>-461.10</td>\n",
       "      <td>2013-04-12</td>\n",
       "      <td>http://www.groupon.com/deals/xtreme-clean-llc</td>\n",
       "      <td>Local</td>\n",
       "      <td>Third - Party</td>\n",
       "    </tr>\n",
       "    <tr>\n",
       "      <th>109463</th>\n",
       "      <td>yogurt-shack-denver</td>\n",
       "      <td>-10.90</td>\n",
       "      <td>-54.50</td>\n",
       "      <td>2012-12-15</td>\n",
       "      <td>http://www.groupon.com/deals/yogurt-shack-denver</td>\n",
       "      <td>Local</td>\n",
       "      <td>Third - Party</td>\n",
       "    </tr>\n",
       "    <tr>\n",
       "      <th>109485</th>\n",
       "      <td>you-call-we-haul-2</td>\n",
       "      <td>-12.40</td>\n",
       "      <td>-1674.00</td>\n",
       "      <td>2013-03-15</td>\n",
       "      <td>http://www.groupon.com/deals/you-call-we-haul-2</td>\n",
       "      <td>Local</td>\n",
       "      <td>Third - Party</td>\n",
       "    </tr>\n",
       "    <tr>\n",
       "      <th>109493</th>\n",
       "      <td>young-s-nail</td>\n",
       "      <td>-10.15</td>\n",
       "      <td>-448.05</td>\n",
       "      <td>2013-08-09</td>\n",
       "      <td>http://www.groupon.com/deals/young-s-nail</td>\n",
       "      <td>Local</td>\n",
       "      <td>Third - Party</td>\n",
       "    </tr>\n",
       "    <tr>\n",
       "      <th>109641</th>\n",
       "      <td>z-sacred-body-fitness</td>\n",
       "      <td>-9.50</td>\n",
       "      <td>-384.00</td>\n",
       "      <td>2013-08-06</td>\n",
       "      <td>http://www.groupon.com/deals/z-sacred-body-fit...</td>\n",
       "      <td>Local</td>\n",
       "      <td>Third - Party</td>\n",
       "    </tr>\n",
       "  </tbody>\n",
       "</table>\n",
       "<p>4369 rows × 7 columns</p>\n",
       "</div>"
      ],
      "text/plain": [
       "                                  Deal ID  Units Sold  Billings Start Date  \\\n",
       "15                          ultimate-tint       -8.30  -1236.70 2012-08-20   \n",
       "16      sterling-house-cleaners-barrie-on       -5.15   -437.75 2012-08-20   \n",
       "40                    the-vanity-center-3      -10.90   -643.10 2012-09-03   \n",
       "81                  sunrise-hair-studio-3      -10.90   -752.10 2012-09-14   \n",
       "125         trio-restaurant-bakery-market     -110.50  -3155.60 2012-09-18   \n",
       "...                                   ...         ...       ...        ...   \n",
       "109373                   xtreme-clean-llc       -2.90   -461.10 2013-04-12   \n",
       "109463                yogurt-shack-denver      -10.90    -54.50 2012-12-15   \n",
       "109485                 you-call-we-haul-2      -12.40  -1674.00 2013-03-15   \n",
       "109493                       young-s-nail      -10.15   -448.05 2013-08-09   \n",
       "109641              z-sacred-body-fitness       -9.50   -384.00 2013-08-06   \n",
       "\n",
       "                                                 Deal URL Segment  \\\n",
       "15             http://www.groupon.com/deals/ultimate-tint   Local   \n",
       "16      http://www.groupon.com/deals/sterling-house-cl...   Local   \n",
       "40       http://www.groupon.com/deals/the-vanity-center-3   Local   \n",
       "81      http://www.groupon.com/deals/sunrise-hair-stud...   Local   \n",
       "125     http://www.groupon.com/deals/trio-restaurant-b...   Local   \n",
       "...                                                   ...     ...   \n",
       "109373      http://www.groupon.com/deals/xtreme-clean-llc   Local   \n",
       "109463   http://www.groupon.com/deals/yogurt-shack-denver   Local   \n",
       "109485    http://www.groupon.com/deals/you-call-we-haul-2   Local   \n",
       "109493          http://www.groupon.com/deals/young-s-nail   Local   \n",
       "109641  http://www.groupon.com/deals/z-sacred-body-fit...   Local   \n",
       "\n",
       "       Inventory Type  \n",
       "15      Third - Party  \n",
       "16      Third - Party  \n",
       "40      Third - Party  \n",
       "81      Third - Party  \n",
       "125     Third - Party  \n",
       "...               ...  \n",
       "109373  Third - Party  \n",
       "109463  Third - Party  \n",
       "109485  Third - Party  \n",
       "109493  Third - Party  \n",
       "109641  Third - Party  \n",
       "\n",
       "[4369 rows x 7 columns]"
      ]
     },
     "execution_count": 5,
     "metadata": {},
     "output_type": "execute_result"
    }
   ],
   "source": [
    "# These shouldn't be included in gross billing, as gross billing DOES NOT include returns.\n",
    "# There is also not yet data for returns in 4Q2013.  \n",
    "\n",
    "negative = df[(df['Billings'] < 0)]\n",
    "print(negative.shape)\n",
    "negative.head(-5)"
   ]
  },
  {
   "cell_type": "markdown",
   "metadata": {},
   "source": [
    "### How is the 0 Billing data distributed in 4Q2013?"
   ]
  },
  {
   "cell_type": "code",
   "execution_count": 6,
   "metadata": {},
   "outputs": [
    {
     "data": {
      "text/plain": [
       "((1349, 7), (2376, 7), (3059, 7))"
      ]
     },
     "execution_count": 6,
     "metadata": {},
     "output_type": "execute_result"
    }
   ],
   "source": [
    "# 0 Billings for October, November, and December\n",
    "# There are MANY more 0s as the months go on. It might be possible that many of these deals\n",
    "# just haven't been on groupon long enough to be discovered.\n",
    "\n",
    "\n",
    "october_0 = df[(df['Start Date'] >= '2013-10-01') & (df['Start Date'] <= '2013-10-31') & (df['Billings'] == 0)]\n",
    "november_0 = df[(df['Start Date'] >= '2013-11-01') & (df['Start Date'] <= '2013-11-30') & (df['Billings'] == 0)]\n",
    "december_0 = df[(df['Start Date'] >= '2013-12-01') & (df['Start Date'] <= '2013-12-31') & (df['Billings'] == 0)]\n",
    "\n",
    "october_0.shape, november_0.shape, december_0.shape"
   ]
  },
  {
   "cell_type": "markdown",
   "metadata": {},
   "source": [
    "### Dropping 0 values and returns (negative values). Initial data exploration"
   ]
  },
  {
   "cell_type": "code",
   "execution_count": 7,
   "metadata": {},
   "outputs": [
    {
     "data": {
      "text/plain": [
       "(138534, 7)"
      ]
     },
     "execution_count": 7,
     "metadata": {},
     "output_type": "execute_result"
    }
   ],
   "source": [
    "df1 = df[(df['Billings'] > 0)]\n",
    "df.shape"
   ]
  },
  {
   "cell_type": "code",
   "execution_count": 8,
   "metadata": {},
   "outputs": [
    {
     "name": "stdout",
     "output_type": "stream",
     "text": [
      "(55122, 7)\n"
     ]
    },
    {
     "data": {
      "text/html": [
       "<div>\n",
       "<style scoped>\n",
       "    .dataframe tbody tr th:only-of-type {\n",
       "        vertical-align: middle;\n",
       "    }\n",
       "\n",
       "    .dataframe tbody tr th {\n",
       "        vertical-align: top;\n",
       "    }\n",
       "\n",
       "    .dataframe thead th {\n",
       "        text-align: right;\n",
       "    }\n",
       "</style>\n",
       "<table border=\"1\" class=\"dataframe\">\n",
       "  <thead>\n",
       "    <tr style=\"text-align: right;\">\n",
       "      <th></th>\n",
       "      <th>Deal ID</th>\n",
       "      <th>Units Sold</th>\n",
       "      <th>Billings</th>\n",
       "      <th>Start Date</th>\n",
       "      <th>Deal URL</th>\n",
       "      <th>Segment</th>\n",
       "      <th>Inventory Type</th>\n",
       "    </tr>\n",
       "  </thead>\n",
       "  <tbody>\n",
       "    <tr>\n",
       "      <th>44253</th>\n",
       "      <td>ga-bk-sheraton-on-the-falls-2</td>\n",
       "      <td>306.300</td>\n",
       "      <td>45725.70000</td>\n",
       "      <td>2013-10-08</td>\n",
       "      <td>http://www.groupon.com/deals/ga-bk-sheraton-on...</td>\n",
       "      <td>Travel</td>\n",
       "      <td>Third - Party</td>\n",
       "    </tr>\n",
       "    <tr>\n",
       "      <th>45264</th>\n",
       "      <td>gg-bramaid-delicates-cleaning-kit</td>\n",
       "      <td>16739.998</td>\n",
       "      <td>234192.57202</td>\n",
       "      <td>2013-10-03</td>\n",
       "      <td>http://www.groupon.com/deals/gg-bramaid-delica...</td>\n",
       "      <td>Goods</td>\n",
       "      <td>First - Party</td>\n",
       "    </tr>\n",
       "    <tr>\n",
       "      <th>45321</th>\n",
       "      <td>gg-shavel-microflannel-sheet-set-1</td>\n",
       "      <td>545.054</td>\n",
       "      <td>26154.74946</td>\n",
       "      <td>2013-10-01</td>\n",
       "      <td>http://www.groupon.com/deals/gg-shavel-microfl...</td>\n",
       "      <td>Goods</td>\n",
       "      <td>First - Party</td>\n",
       "    </tr>\n",
       "    <tr>\n",
       "      <th>46275</th>\n",
       "      <td>elegant-looks</td>\n",
       "      <td>29.150</td>\n",
       "      <td>416.50000</td>\n",
       "      <td>2013-10-06</td>\n",
       "      <td>http://www.groupon.com/deals/elegant-looks</td>\n",
       "      <td>Local</td>\n",
       "      <td>Third - Party</td>\n",
       "    </tr>\n",
       "    <tr>\n",
       "      <th>47265</th>\n",
       "      <td>idle-hour-ranch</td>\n",
       "      <td>60.550</td>\n",
       "      <td>976.89450</td>\n",
       "      <td>2013-10-01</td>\n",
       "      <td>http://www.groupon.com/deals/idle-hour-ranch</td>\n",
       "      <td>Local</td>\n",
       "      <td>Third - Party</td>\n",
       "    </tr>\n",
       "  </tbody>\n",
       "</table>\n",
       "</div>"
      ],
      "text/plain": [
       "                                  Deal ID  Units Sold      Billings  \\\n",
       "44253       ga-bk-sheraton-on-the-falls-2     306.300   45725.70000   \n",
       "45264   gg-bramaid-delicates-cleaning-kit   16739.998  234192.57202   \n",
       "45321  gg-shavel-microflannel-sheet-set-1     545.054   26154.74946   \n",
       "46275                       elegant-looks      29.150     416.50000   \n",
       "47265                     idle-hour-ranch      60.550     976.89450   \n",
       "\n",
       "      Start Date                                           Deal URL Segment  \\\n",
       "44253 2013-10-08  http://www.groupon.com/deals/ga-bk-sheraton-on...  Travel   \n",
       "45264 2013-10-03  http://www.groupon.com/deals/gg-bramaid-delica...   Goods   \n",
       "45321 2013-10-01  http://www.groupon.com/deals/gg-shavel-microfl...   Goods   \n",
       "46275 2013-10-06         http://www.groupon.com/deals/elegant-looks   Local   \n",
       "47265 2013-10-01       http://www.groupon.com/deals/idle-hour-ranch   Local   \n",
       "\n",
       "      Inventory Type  \n",
       "44253  Third - Party  \n",
       "45264  First - Party  \n",
       "45321  First - Party  \n",
       "46275  Third - Party  \n",
       "47265  Third - Party  "
      ]
     },
     "execution_count": 8,
     "metadata": {},
     "output_type": "execute_result"
    }
   ],
   "source": [
    "# This is a dataset for 4Q2013 only. I will use it later.\n",
    "\n",
    "Q42013 = df1[df1['Start Date'] >= '2013-10-01']\n",
    "print(Q42013.shape)\n",
    "Q42013.head()"
   ]
  },
  {
   "cell_type": "code",
   "execution_count": 9,
   "metadata": {},
   "outputs": [
    {
     "data": {
      "text/html": [
       "<div>\n",
       "<style scoped>\n",
       "    .dataframe tbody tr th:only-of-type {\n",
       "        vertical-align: middle;\n",
       "    }\n",
       "\n",
       "    .dataframe tbody tr th {\n",
       "        vertical-align: top;\n",
       "    }\n",
       "\n",
       "    .dataframe thead th {\n",
       "        text-align: right;\n",
       "    }\n",
       "</style>\n",
       "<table border=\"1\" class=\"dataframe\">\n",
       "  <thead>\n",
       "    <tr style=\"text-align: right;\">\n",
       "      <th></th>\n",
       "      <th>Units Sold</th>\n",
       "      <th>Billings</th>\n",
       "    </tr>\n",
       "  </thead>\n",
       "  <tbody>\n",
       "    <tr>\n",
       "      <th>count</th>\n",
       "      <td>1.073860e+05</td>\n",
       "      <td>1.073860e+05</td>\n",
       "    </tr>\n",
       "    <tr>\n",
       "      <th>mean</th>\n",
       "      <td>2.326606e+02</td>\n",
       "      <td>7.162616e+03</td>\n",
       "    </tr>\n",
       "    <tr>\n",
       "      <th>std</th>\n",
       "      <td>9.736571e+02</td>\n",
       "      <td>3.128753e+04</td>\n",
       "    </tr>\n",
       "    <tr>\n",
       "      <th>min</th>\n",
       "      <td>2.220446e-16</td>\n",
       "      <td>7.105427e-15</td>\n",
       "    </tr>\n",
       "    <tr>\n",
       "      <th>25%</th>\n",
       "      <td>1.095000e+01</td>\n",
       "      <td>4.836000e+02</td>\n",
       "    </tr>\n",
       "    <tr>\n",
       "      <th>50%</th>\n",
       "      <td>3.720000e+01</td>\n",
       "      <td>1.641000e+03</td>\n",
       "    </tr>\n",
       "    <tr>\n",
       "      <th>75%</th>\n",
       "      <td>1.483385e+02</td>\n",
       "      <td>5.232000e+03</td>\n",
       "    </tr>\n",
       "    <tr>\n",
       "      <th>max</th>\n",
       "      <td>6.250000e+04</td>\n",
       "      <td>2.874885e+06</td>\n",
       "    </tr>\n",
       "  </tbody>\n",
       "</table>\n",
       "</div>"
      ],
      "text/plain": [
       "         Units Sold      Billings\n",
       "count  1.073860e+05  1.073860e+05\n",
       "mean   2.326606e+02  7.162616e+03\n",
       "std    9.736571e+02  3.128753e+04\n",
       "min    2.220446e-16  7.105427e-15\n",
       "25%    1.095000e+01  4.836000e+02\n",
       "50%    3.720000e+01  1.641000e+03\n",
       "75%    1.483385e+02  5.232000e+03\n",
       "max    6.250000e+04  2.874885e+06"
      ]
     },
     "execution_count": 9,
     "metadata": {},
     "output_type": "execute_result"
    }
   ],
   "source": [
    "df1.describe()"
   ]
  },
  {
   "cell_type": "code",
   "execution_count": 10,
   "metadata": {},
   "outputs": [
    {
     "data": {
      "text/html": [
       "<div>\n",
       "<style scoped>\n",
       "    .dataframe tbody tr th:only-of-type {\n",
       "        vertical-align: middle;\n",
       "    }\n",
       "\n",
       "    .dataframe tbody tr th {\n",
       "        vertical-align: top;\n",
       "    }\n",
       "\n",
       "    .dataframe thead th {\n",
       "        text-align: right;\n",
       "    }\n",
       "</style>\n",
       "<table border=\"1\" class=\"dataframe\">\n",
       "  <thead>\n",
       "    <tr style=\"text-align: right;\">\n",
       "      <th></th>\n",
       "      <th>Deal ID</th>\n",
       "      <th>Start Date</th>\n",
       "      <th>Deal URL</th>\n",
       "      <th>Segment</th>\n",
       "      <th>Inventory Type</th>\n",
       "    </tr>\n",
       "  </thead>\n",
       "  <tbody>\n",
       "    <tr>\n",
       "      <th>count</th>\n",
       "      <td>107386</td>\n",
       "      <td>107386</td>\n",
       "      <td>107386</td>\n",
       "      <td>107386</td>\n",
       "      <td>107386</td>\n",
       "    </tr>\n",
       "    <tr>\n",
       "      <th>unique</th>\n",
       "      <td>107386</td>\n",
       "      <td>505</td>\n",
       "      <td>107386</td>\n",
       "      <td>3</td>\n",
       "      <td>2</td>\n",
       "    </tr>\n",
       "    <tr>\n",
       "      <th>top</th>\n",
       "      <td>martino-eyecare</td>\n",
       "      <td>2013-11-01 00:00:00</td>\n",
       "      <td>http://www.groupon.com/deals/gg-efa-gold-flax-oil</td>\n",
       "      <td>Local</td>\n",
       "      <td>Third - Party</td>\n",
       "    </tr>\n",
       "    <tr>\n",
       "      <th>freq</th>\n",
       "      <td>1</td>\n",
       "      <td>877</td>\n",
       "      <td>1</td>\n",
       "      <td>91395</td>\n",
       "      <td>94172</td>\n",
       "    </tr>\n",
       "    <tr>\n",
       "      <th>first</th>\n",
       "      <td>NaN</td>\n",
       "      <td>2012-06-06 00:00:00</td>\n",
       "      <td>NaN</td>\n",
       "      <td>NaN</td>\n",
       "      <td>NaN</td>\n",
       "    </tr>\n",
       "    <tr>\n",
       "      <th>last</th>\n",
       "      <td>NaN</td>\n",
       "      <td>2013-12-31 00:00:00</td>\n",
       "      <td>NaN</td>\n",
       "      <td>NaN</td>\n",
       "      <td>NaN</td>\n",
       "    </tr>\n",
       "  </tbody>\n",
       "</table>\n",
       "</div>"
      ],
      "text/plain": [
       "                Deal ID           Start Date  \\\n",
       "count            107386               107386   \n",
       "unique           107386                  505   \n",
       "top     martino-eyecare  2013-11-01 00:00:00   \n",
       "freq                  1                  877   \n",
       "first               NaN  2012-06-06 00:00:00   \n",
       "last                NaN  2013-12-31 00:00:00   \n",
       "\n",
       "                                                 Deal URL Segment  \\\n",
       "count                                              107386  107386   \n",
       "unique                                             107386       3   \n",
       "top     http://www.groupon.com/deals/gg-efa-gold-flax-oil   Local   \n",
       "freq                                                    1   91395   \n",
       "first                                                 NaN     NaN   \n",
       "last                                                  NaN     NaN   \n",
       "\n",
       "       Inventory Type  \n",
       "count          107386  \n",
       "unique              2  \n",
       "top     Third - Party  \n",
       "freq            94172  \n",
       "first             NaN  \n",
       "last              NaN  "
      ]
     },
     "execution_count": 10,
     "metadata": {},
     "output_type": "execute_result"
    }
   ],
   "source": [
    "df1.describe(exclude='number')"
   ]
  },
  {
   "cell_type": "markdown",
   "metadata": {},
   "source": [
    "### Looking for Duplicated Data"
   ]
  },
  {
   "cell_type": "code",
   "execution_count": 11,
   "metadata": {},
   "outputs": [
    {
     "data": {
      "text/plain": [
       "False    107386\n",
       "dtype: int64"
      ]
     },
     "execution_count": 11,
     "metadata": {},
     "output_type": "execute_result"
    }
   ],
   "source": [
    "# There appear to be no duplicated rows. But after staring at the spreadsheet long enough\n",
    "# I did see some duplicates. What hides them is that the url and Deal ID will be slightly\n",
    "# different.\n",
    "\n",
    "df1.duplicated(subset=None, keep=False).value_counts()"
   ]
  },
  {
   "cell_type": "code",
   "execution_count": 12,
   "metadata": {},
   "outputs": [
    {
     "data": {
      "text/plain": [
       "Index(['Deal ID', 'Units Sold', 'Billings', 'Start Date', 'Deal URL',\n",
       "       'Segment', 'Inventory Type'],\n",
       "      dtype='object')"
      ]
     },
     "execution_count": 12,
     "metadata": {},
     "output_type": "execute_result"
    }
   ],
   "source": [
    "df1.columns"
   ]
  },
  {
   "cell_type": "code",
   "execution_count": 13,
   "metadata": {},
   "outputs": [
    {
     "data": {
      "text/plain": [
       "False    100500\n",
       "True       6886\n",
       "dtype: int64"
      ]
     },
     "execution_count": 13,
     "metadata": {},
     "output_type": "execute_result"
    }
   ],
   "source": [
    "# Total duplicated observations = 6886\n",
    "\n",
    "df1.drop(['Deal ID', 'Deal URL'], inplace=False, axis=1).duplicated(subset=None, keep='first').value_counts()\n"
   ]
  },
  {
   "cell_type": "code",
   "execution_count": 14,
   "metadata": {},
   "outputs": [
    {
     "data": {
      "text/plain": [
       "False    49848\n",
       "True      5274\n",
       "dtype: int64"
      ]
     },
     "execution_count": 14,
     "metadata": {},
     "output_type": "execute_result"
    }
   ],
   "source": [
    "# Duplicated observations for 4Q13 = 5274\n",
    "\n",
    "Q42013.drop(['Deal ID', 'Deal URL'], inplace=False, axis=1).duplicated(subset=None, keep=\"first\").value_counts()"
   ]
  },
  {
   "cell_type": "code",
   "execution_count": 15,
   "metadata": {},
   "outputs": [],
   "source": [
    "df_dups_dropped = df1[(df1.drop(['Deal ID', 'Deal URL'], \n",
    "                             inplace=False, axis=1).duplicated(subset=None, keep='first') == False)]\n",
    "\n",
    "Q42013_dups_dropped = Q42013[(Q42013.drop(['Deal ID', 'Deal URL'], \n",
    "                                          inplace=False, axis=1).duplicated(subset=None, keep='first') == False)]"
   ]
  },
  {
   "cell_type": "code",
   "execution_count": 55,
   "metadata": {},
   "outputs": [
    {
     "data": {
      "image/png": "[encoded data removed]",
      "text/plain": [
       "<Figure size 432x288 with 1 Axes>"
      ]
     },
     "metadata": {
      "needs_background": "light"
     },
     "output_type": "display_data"
    }
   ],
   "source": [
    "# matplotlib histogram\n",
    "import matplotlib.pyplot as plt\n",
    "\n",
    "plt.hist(df_dups_dropped['Billings'], color='blue', edgecolor='black',\n",
    "         bins = 10000)\n",
    "\n",
    "plt.hist(Q42013_dups_dropped['Billings'], color ='red', edgecolor='black',\n",
    "         bins = 10000)\n",
    "\n",
    "plt.xlim(0, 10000)\n",
    "plt.ylim(0, 20000)\n",
    "\n",
    "\n",
    "plt.title('Histogram of Billings')\n",
    "plt.xlabel('Billings Amount')\n",
    "plt.ylabel('Number of observations in each bin');"
   ]
  },
  {
   "cell_type": "code",
   "execution_count": 19,
   "metadata": {},
   "outputs": [],
   "source": [
    "dur = df[df['Start Date'] < '2013-10-01']"
   ]
  },
  {
   "cell_type": "code",
   "execution_count": 23,
   "metadata": {},
   "outputs": [
    {
     "data": {
      "image/png": "[encoded data removed]",
      "text/plain": [
       "<Figure size 432x288 with 1 Axes>"
      ]
     },
     "metadata": {
      "needs_background": "light"
     },
     "output_type": "display_data"
    }
   ],
   "source": [
    "plt.scatter(df_dups_dropped['Billings'], df_dups_dropped['Units Sold'], s=10, c='black', alpha=0.5)\n",
    "plt.xlim(0, )\n",
    "plt.ylim(0, )\n",
    "plt.show()"
   ]
  },
  {
   "cell_type": "code",
   "execution_count": 24,
   "metadata": {},
   "outputs": [
    {
     "data": {
      "image/png": "[encoded data removed]",
      "text/plain": [
       "<Figure size 432x288 with 1 Axes>"
      ]
     },
     "metadata": {
      "needs_background": "light"
     },
     "output_type": "display_data"
    }
   ],
   "source": [
    "plt.scatter(dur['Billings'], dur['Units Sold'], s=10, c='red', alpha=0.5)\n",
    "plt.xlim(0, )\n",
    "plt.ylim(0, )\n",
    "plt.show()"
   ]
  },
  {
   "cell_type": "markdown",
   "metadata": {},
   "source": [
    "### Adjust for missing data in Oct 20-30, 2013 for the Local Segment\n",
    "\n",
    "For the missing data in October, I plan to look at the raw data from 2012 and see how those 10 days performed relative to the 10 days before and 10 days after (Septembet 29-October 9 and October 31-November 9, respectively). Then I will impose that relative difference in date range for 2013, using the 10 days before and after to adjust the local segment billings for 2013."
   ]
  },
  {
   "cell_type": "markdown",
   "metadata": {},
   "source": [
    "#### Looking at the difference in 10 day segments: 2012"
   ]
  },
  {
   "cell_type": "code",
   "execution_count": 25,
   "metadata": {},
   "outputs": [],
   "source": [
    "# Billing for local segment october 20-30\n",
    "\n",
    "billings_2012_oct20_to_oct30 = df_dups_dropped[(df_dups_dropped['Start Date'] >= '2012-10-20') \n",
    "                                               & (df_dups_dropped['Start Date'] <= '2012-10-30')]\n",
    "\n",
    "billings_2012_oct20_to_oct30_local = billings_2012_oct20_to_oct30[billings_2012_oct20_to_oct30\n",
    "                                                                  .Segment.str.contains('Local')]\n",
    "\n",
    "# Billing for local segment oct 9-oct 19\n",
    "\n",
    "billings_2012_oct9_to_oct19 = df_dups_dropped[(df_dups_dropped['Start Date'] >= '2012-10-09') \n",
    "                                               & (df_dups_dropped['Start Date'] <= '2012-10-19')]\n",
    "\n",
    "billings_2012_oct9_to_oct19_local = billings_2012_oct9_to_oct19[billings_2012_oct9_to_oct19\n",
    "                                                                  .Segment.str.contains('Local')]\n",
    "\n",
    "# Billing for local segment oct31-nov10\n",
    "\n",
    "billings_2012_oct31_to_nov10 = df_dups_dropped[(df_dups_dropped['Start Date'] >= '2012-10-31') \n",
    "                                               & (df_dups_dropped['Start Date'] <= '2012-11-10')]\n",
    "\n",
    "billings_2012_oct31_to_nov10_local = billings_2012_oct31_to_nov10[billings_2012_oct31_to_nov10\n",
    "                                                                  .Segment.str.contains('Local')]"
   ]
  },
  {
   "cell_type": "code",
   "execution_count": 26,
   "metadata": {},
   "outputs": [
    {
     "data": {
      "text/plain": [
       "((405, 7), (315, 7), (420, 7))"
      ]
     },
     "execution_count": 26,
     "metadata": {},
     "output_type": "execute_result"
    }
   ],
   "source": [
    "billings_2012_oct20_to_oct30_local.shape, billings_2012_oct9_to_oct19_local.shape, billings_2012_oct31_to_nov10_local.shape\n"
   ]
  },
  {
   "cell_type": "code",
   "execution_count": 27,
   "metadata": {},
   "outputs": [
    {
     "data": {
      "text/html": [
       "<div>\n",
       "<style scoped>\n",
       "    .dataframe tbody tr th:only-of-type {\n",
       "        vertical-align: middle;\n",
       "    }\n",
       "\n",
       "    .dataframe tbody tr th {\n",
       "        vertical-align: top;\n",
       "    }\n",
       "\n",
       "    .dataframe thead th {\n",
       "        text-align: right;\n",
       "    }\n",
       "</style>\n",
       "<table border=\"1\" class=\"dataframe\">\n",
       "  <thead>\n",
       "    <tr style=\"text-align: right;\">\n",
       "      <th></th>\n",
       "      <th>Units Sold</th>\n",
       "      <th>Billings</th>\n",
       "    </tr>\n",
       "    <tr>\n",
       "      <th>Segment</th>\n",
       "      <th></th>\n",
       "      <th></th>\n",
       "    </tr>\n",
       "  </thead>\n",
       "  <tbody>\n",
       "    <tr>\n",
       "      <th>Local</th>\n",
       "      <td>101.640741</td>\n",
       "      <td>4309.922099</td>\n",
       "    </tr>\n",
       "  </tbody>\n",
       "</table>\n",
       "</div>"
      ],
      "text/plain": [
       "         Units Sold     Billings\n",
       "Segment                         \n",
       "Local    101.640741  4309.922099"
      ]
     },
     "execution_count": 27,
     "metadata": {},
     "output_type": "execute_result"
    }
   ],
   "source": [
    "x = billings_2012_oct20_to_oct30_local.groupby(['Segment']).mean()\n",
    "x"
   ]
  },
  {
   "cell_type": "code",
   "execution_count": 28,
   "metadata": {},
   "outputs": [
    {
     "data": {
      "text/html": [
       "<div>\n",
       "<style scoped>\n",
       "    .dataframe tbody tr th:only-of-type {\n",
       "        vertical-align: middle;\n",
       "    }\n",
       "\n",
       "    .dataframe tbody tr th {\n",
       "        vertical-align: top;\n",
       "    }\n",
       "\n",
       "    .dataframe thead th {\n",
       "        text-align: right;\n",
       "    }\n",
       "</style>\n",
       "<table border=\"1\" class=\"dataframe\">\n",
       "  <thead>\n",
       "    <tr style=\"text-align: right;\">\n",
       "      <th></th>\n",
       "      <th>Units Sold</th>\n",
       "      <th>Billings</th>\n",
       "    </tr>\n",
       "    <tr>\n",
       "      <th>Segment</th>\n",
       "      <th></th>\n",
       "      <th></th>\n",
       "    </tr>\n",
       "  </thead>\n",
       "  <tbody>\n",
       "    <tr>\n",
       "      <th>Local</th>\n",
       "      <td>82.194603</td>\n",
       "      <td>3957.471905</td>\n",
       "    </tr>\n",
       "  </tbody>\n",
       "</table>\n",
       "</div>"
      ],
      "text/plain": [
       "         Units Sold     Billings\n",
       "Segment                         \n",
       "Local     82.194603  3957.471905"
      ]
     },
     "execution_count": 28,
     "metadata": {},
     "output_type": "execute_result"
    }
   ],
   "source": [
    "y = billings_2012_oct9_to_oct19_local.groupby(['Segment']).mean()\n",
    "y"
   ]
  },
  {
   "cell_type": "code",
   "execution_count": 29,
   "metadata": {},
   "outputs": [
    {
     "data": {
      "text/html": [
       "<div>\n",
       "<style scoped>\n",
       "    .dataframe tbody tr th:only-of-type {\n",
       "        vertical-align: middle;\n",
       "    }\n",
       "\n",
       "    .dataframe tbody tr th {\n",
       "        vertical-align: top;\n",
       "    }\n",
       "\n",
       "    .dataframe thead th {\n",
       "        text-align: right;\n",
       "    }\n",
       "</style>\n",
       "<table border=\"1\" class=\"dataframe\">\n",
       "  <thead>\n",
       "    <tr style=\"text-align: right;\">\n",
       "      <th></th>\n",
       "      <th>Units Sold</th>\n",
       "      <th>Billings</th>\n",
       "    </tr>\n",
       "    <tr>\n",
       "      <th>Segment</th>\n",
       "      <th></th>\n",
       "      <th></th>\n",
       "    </tr>\n",
       "  </thead>\n",
       "  <tbody>\n",
       "    <tr>\n",
       "      <th>Local</th>\n",
       "      <td>87.787143</td>\n",
       "      <td>3750.52369</td>\n",
       "    </tr>\n",
       "  </tbody>\n",
       "</table>\n",
       "</div>"
      ],
      "text/plain": [
       "         Units Sold    Billings\n",
       "Segment                        \n",
       "Local     87.787143  3750.52369"
      ]
     },
     "execution_count": 29,
     "metadata": {},
     "output_type": "execute_result"
    }
   ],
   "source": [
    "z = billings_2012_oct31_to_nov10_local.groupby(['Segment']).mean()\n",
    "z"
   ]
  },
  {
   "cell_type": "code",
   "execution_count": 30,
   "metadata": {},
   "outputs": [
    {
     "name": "stdout",
     "output_type": "stream",
     "text": [
      "Billings for Local was about  1.15 times higher in the 10 day range\n",
      "from October 20-30 in 2012 than the preceeding 10 days, from october 9 to 19.\n"
     ]
    }
   ],
   "source": [
    "difference = x.iloc[0][1]/z.iloc[0][1]\n",
    "\n",
    "print(f'Billings for Local was about {difference: .2f} times higher in the 10 day range')\n",
    "print('from October 20-30 in 2012 than the preceeding 10 days, from october 9 to 19.')"
   ]
  },
  {
   "cell_type": "code",
   "execution_count": 31,
   "metadata": {},
   "outputs": [
    {
     "name": "stdout",
     "output_type": "stream",
     "text": [
      "Billings for Local was about  1.09 times higher in the 10 day range\n",
      "from October 20-30 in 2012 than the preceeding 10 days, from october 9 to 19.\n"
     ]
    }
   ],
   "source": [
    "difference = x.iloc[0][1]/y.iloc[0][1]\n",
    "\n",
    "print(f'Billings for Local was about {difference: .2f} times higher in the 10 day range')\n",
    "print('from October 20-30 in 2012 than the preceeding 10 days, from october 9 to 19.')"
   ]
  },
  {
   "cell_type": "markdown",
   "metadata": {},
   "source": [
    "In October 20-30, 2012, the Local Segment actually outperformed the preceeding 10 days and proceeding 10 dates by about 9% and 15% respectively. In adjusting the missing values for 2013, I will use the aadjust according the to average difference between the two weeks and oct 20-30"
   ]
  },
  {
   "cell_type": "code",
   "execution_count": 32,
   "metadata": {},
   "outputs": [
    {
     "name": "stdout",
     "output_type": "stream",
     "text": [
      "Billings for Local was about  1.12 times higher in the 10 day range\n",
      "from October 20-30 in 2012 than the average of the 10 days prior and after.\n"
     ]
    }
   ],
   "source": [
    "difference = x.iloc[0][1]/((z.iloc[0][1]+y.iloc[0][1])/2)\n",
    "\n",
    "print(f'Billings for Local was about {difference: .2f} times higher in the 10 day range')\n",
    "print('from October 20-30 in 2012 than the average of the 10 days prior and after.')"
   ]
  },
  {
   "cell_type": "markdown",
   "metadata": {},
   "source": [
    "#### Looking at the difference in 10 day segments: 2013"
   ]
  },
  {
   "cell_type": "code",
   "execution_count": 33,
   "metadata": {},
   "outputs": [],
   "source": [
    "# Billing for local segment october 20-30\n",
    "\n",
    "billings_2013_oct20_to_oct30 = df_dups_dropped[(df_dups_dropped['Start Date'] >= '2013-10-20') \n",
    "                                               & (df_dups_dropped['Start Date'] <= '2013-10-30')]\n",
    "\n",
    "billings_2013_oct20_to_oct30_local = billings_2013_oct20_to_oct30[billings_2013_oct20_to_oct30\n",
    "                                                                  .Segment.str.contains('Local')]\n",
    "\n",
    "# Billing for local segment sept 29-oct 9\n",
    "\n",
    "billings_2013_sept29_to_oct9 = df_dups_dropped[(df_dups_dropped['Start Date'] >= '2013-09-29') \n",
    "                                               & (df_dups_dropped['Start Date'] <= '2013-10-09')]\n",
    "\n",
    "billings_2013_sept29_to_oct9_local = billings_2013_sept29_to_oct9[billings_2013_sept29_to_oct9\n",
    "                                                                  .Segment.str.contains('Local')]\n",
    "\n",
    "# Billing for local segment oct31-nov10\n",
    "\n",
    "billings_2013_oct31_to_nov10 = df_dups_dropped[(df_dups_dropped['Start Date'] >= '2013-10-31') \n",
    "                                               & (df_dups_dropped['Start Date'] <= '2013-11-10')]\n",
    "\n",
    "billings_2013_oct31_to_nov10_local = billings_2013_oct31_to_nov10[billings_2013_oct31_to_nov10\n",
    "                                                                  .Segment.str.contains('Local')]"
   ]
  },
  {
   "cell_type": "code",
   "execution_count": 34,
   "metadata": {},
   "outputs": [
    {
     "data": {
      "text/plain": [
       "((0, 7), (4826, 7), (4922, 7))"
      ]
     },
     "execution_count": 34,
     "metadata": {},
     "output_type": "execute_result"
    }
   ],
   "source": [
    "billings_2013_oct20_to_oct30_local.shape, billings_2013_sept29_to_oct9_local.shape, billings_2013_oct31_to_nov10_local.shape"
   ]
  },
  {
   "cell_type": "code",
   "execution_count": 35,
   "metadata": {},
   "outputs": [
    {
     "data": {
      "text/html": [
       "<div>\n",
       "<style scoped>\n",
       "    .dataframe tbody tr th:only-of-type {\n",
       "        vertical-align: middle;\n",
       "    }\n",
       "\n",
       "    .dataframe tbody tr th {\n",
       "        vertical-align: top;\n",
       "    }\n",
       "\n",
       "    .dataframe thead th {\n",
       "        text-align: right;\n",
       "    }\n",
       "</style>\n",
       "<table border=\"1\" class=\"dataframe\">\n",
       "  <thead>\n",
       "    <tr style=\"text-align: right;\">\n",
       "      <th></th>\n",
       "      <th>Units Sold</th>\n",
       "      <th>Billings</th>\n",
       "    </tr>\n",
       "    <tr>\n",
       "      <th>Segment</th>\n",
       "      <th></th>\n",
       "      <th></th>\n",
       "    </tr>\n",
       "  </thead>\n",
       "  <tbody>\n",
       "    <tr>\n",
       "      <th>Local</th>\n",
       "      <td>1131673.1</td>\n",
       "      <td>3.119235e+07</td>\n",
       "    </tr>\n",
       "  </tbody>\n",
       "</table>\n",
       "</div>"
      ],
      "text/plain": [
       "         Units Sold      Billings\n",
       "Segment                          \n",
       "Local     1131673.1  3.119235e+07"
      ]
     },
     "execution_count": 35,
     "metadata": {},
     "output_type": "execute_result"
    }
   ],
   "source": [
    "x = billings_2013_sept29_to_oct9_local.groupby(['Segment']).sum()\n",
    "x"
   ]
  },
  {
   "cell_type": "code",
   "execution_count": 36,
   "metadata": {},
   "outputs": [
    {
     "data": {
      "text/html": [
       "<div>\n",
       "<style scoped>\n",
       "    .dataframe tbody tr th:only-of-type {\n",
       "        vertical-align: middle;\n",
       "    }\n",
       "\n",
       "    .dataframe tbody tr th {\n",
       "        vertical-align: top;\n",
       "    }\n",
       "\n",
       "    .dataframe thead th {\n",
       "        text-align: right;\n",
       "    }\n",
       "</style>\n",
       "<table border=\"1\" class=\"dataframe\">\n",
       "  <thead>\n",
       "    <tr style=\"text-align: right;\">\n",
       "      <th></th>\n",
       "      <th>Units Sold</th>\n",
       "      <th>Billings</th>\n",
       "    </tr>\n",
       "    <tr>\n",
       "      <th>Segment</th>\n",
       "      <th></th>\n",
       "      <th></th>\n",
       "    </tr>\n",
       "  </thead>\n",
       "  <tbody>\n",
       "    <tr>\n",
       "      <th>Local</th>\n",
       "      <td>1302199.2</td>\n",
       "      <td>3.307915e+07</td>\n",
       "    </tr>\n",
       "  </tbody>\n",
       "</table>\n",
       "</div>"
      ],
      "text/plain": [
       "         Units Sold      Billings\n",
       "Segment                          \n",
       "Local     1302199.2  3.307915e+07"
      ]
     },
     "execution_count": 36,
     "metadata": {},
     "output_type": "execute_result"
    }
   ],
   "source": [
    "y = billings_2013_oct31_to_nov10_local.groupby(['Segment']).sum()\n",
    "y"
   ]
  },
  {
   "cell_type": "markdown",
   "metadata": {},
   "source": [
    "#### Making the adjustment to account for the missing data"
   ]
  },
  {
   "cell_type": "code",
   "execution_count": 37,
   "metadata": {},
   "outputs": [
    {
     "data": {
      "text/plain": [
       "35937374.21600697"
      ]
     },
     "execution_count": 37,
     "metadata": {},
     "output_type": "execute_result"
    }
   ],
   "source": [
    "# Now I will make the %12 adjustment that I put together from the 2012 data.\n",
    "\n",
    "oct_missing_values = ((y.iloc[0][1] + x.iloc[0][1]) / 2) * difference\n",
    "oct_missing_values"
   ]
  },
  {
   "cell_type": "code",
   "execution_count": 38,
   "metadata": {},
   "outputs": [
    {
     "data": {
      "text/html": [
       "<div>\n",
       "<style scoped>\n",
       "    .dataframe tbody tr th:only-of-type {\n",
       "        vertical-align: middle;\n",
       "    }\n",
       "\n",
       "    .dataframe tbody tr th {\n",
       "        vertical-align: top;\n",
       "    }\n",
       "\n",
       "    .dataframe thead th {\n",
       "        text-align: right;\n",
       "    }\n",
       "</style>\n",
       "<table border=\"1\" class=\"dataframe\">\n",
       "  <thead>\n",
       "    <tr style=\"text-align: right;\">\n",
       "      <th></th>\n",
       "      <th>Units Sold</th>\n",
       "      <th>Billings</th>\n",
       "    </tr>\n",
       "    <tr>\n",
       "      <th>Segment</th>\n",
       "      <th></th>\n",
       "      <th></th>\n",
       "    </tr>\n",
       "  </thead>\n",
       "  <tbody>\n",
       "    <tr>\n",
       "      <th>Goods</th>\n",
       "      <td>9.952459e+06</td>\n",
       "      <td>2.722459e+08</td>\n",
       "    </tr>\n",
       "    <tr>\n",
       "      <th>Local</th>\n",
       "      <td>7.855128e+06</td>\n",
       "      <td>2.466582e+08</td>\n",
       "    </tr>\n",
       "    <tr>\n",
       "      <th>Travel</th>\n",
       "      <td>3.660306e+05</td>\n",
       "      <td>6.750610e+07</td>\n",
       "    </tr>\n",
       "  </tbody>\n",
       "</table>\n",
       "</div>"
      ],
      "text/plain": [
       "           Units Sold      Billings\n",
       "Segment                            \n",
       "Goods    9.952459e+06  2.722459e+08\n",
       "Local    7.855128e+06  2.466582e+08\n",
       "Travel   3.660306e+05  6.750610e+07"
      ]
     },
     "execution_count": 38,
     "metadata": {},
     "output_type": "execute_result"
    }
   ],
   "source": [
    "# Lets now add the adjusted October billing and find the total.\n",
    "\n",
    "total_billing_Q42013 = Q42013_dups_dropped.groupby(['Segment']).sum()\n",
    "total_billing_Q42013.iloc[1][1] = total_billing_Q42013.iloc[1][1] + oct_missing_values\n",
    "total_billing_Q42013"
   ]
  },
  {
   "cell_type": "code",
   "execution_count": 39,
   "metadata": {},
   "outputs": [],
   "source": [
    "s = total_billing_Q42013.xs('Travel')\n",
    "s.name = 'Total'\n",
    "total_billing_Q42013 = total_billing_Q42013.append(s)"
   ]
  },
  {
   "cell_type": "code",
   "execution_count": 40,
   "metadata": {},
   "outputs": [
    {
     "data": {
      "text/html": [
       "<div>\n",
       "<style scoped>\n",
       "    .dataframe tbody tr th:only-of-type {\n",
       "        vertical-align: middle;\n",
       "    }\n",
       "\n",
       "    .dataframe tbody tr th {\n",
       "        vertical-align: top;\n",
       "    }\n",
       "\n",
       "    .dataframe thead th {\n",
       "        text-align: right;\n",
       "    }\n",
       "</style>\n",
       "<table border=\"1\" class=\"dataframe\">\n",
       "  <thead>\n",
       "    <tr style=\"text-align: right;\">\n",
       "      <th></th>\n",
       "      <th>Units Sold</th>\n",
       "      <th>Billings</th>\n",
       "    </tr>\n",
       "    <tr>\n",
       "      <th>Segment</th>\n",
       "      <th></th>\n",
       "      <th></th>\n",
       "    </tr>\n",
       "  </thead>\n",
       "  <tbody>\n",
       "    <tr>\n",
       "      <th>Goods</th>\n",
       "      <td>9.952459e+06</td>\n",
       "      <td>2.722459e+08</td>\n",
       "    </tr>\n",
       "    <tr>\n",
       "      <th>Local</th>\n",
       "      <td>7.855128e+06</td>\n",
       "      <td>2.466582e+08</td>\n",
       "    </tr>\n",
       "    <tr>\n",
       "      <th>Travel</th>\n",
       "      <td>3.660306e+05</td>\n",
       "      <td>6.750610e+07</td>\n",
       "    </tr>\n",
       "    <tr>\n",
       "      <th>Total</th>\n",
       "      <td>1.817362e+07</td>\n",
       "      <td>5.864103e+08</td>\n",
       "    </tr>\n",
       "  </tbody>\n",
       "</table>\n",
       "</div>"
      ],
      "text/plain": [
       "           Units Sold      Billings\n",
       "Segment                            \n",
       "Goods    9.952459e+06  2.722459e+08\n",
       "Local    7.855128e+06  2.466582e+08\n",
       "Travel   3.660306e+05  6.750610e+07\n",
       "Total    1.817362e+07  5.864103e+08"
      ]
     },
     "execution_count": 40,
     "metadata": {},
     "output_type": "execute_result"
    }
   ],
   "source": [
    "total_billing_Q42013.iloc[3][0] = total_billing_Q42013.iloc[0][0] + total_billing_Q42013.iloc[1][0] + total_billing_Q42013.iloc[2][0]\n",
    "total_billing_Q42013.iloc[3][1] = total_billing_Q42013.iloc[0][1] + total_billing_Q42013.iloc[1][1] + total_billing_Q42013.iloc[2][1]\n",
    "total_billing_Q42013"
   ]
  },
  {
   "cell_type": "markdown",
   "metadata": {},
   "source": [
    "### Total billing by segment"
   ]
  },
  {
   "cell_type": "code",
   "execution_count": 41,
   "metadata": {},
   "outputs": [
    {
     "data": {
      "text/html": [
       "<div>\n",
       "<style scoped>\n",
       "    .dataframe tbody tr th:only-of-type {\n",
       "        vertical-align: middle;\n",
       "    }\n",
       "\n",
       "    .dataframe tbody tr th {\n",
       "        vertical-align: top;\n",
       "    }\n",
       "\n",
       "    .dataframe thead th {\n",
       "        text-align: right;\n",
       "    }\n",
       "</style>\n",
       "<table border=\"1\" class=\"dataframe\">\n",
       "  <thead>\n",
       "    <tr style=\"text-align: right;\">\n",
       "      <th></th>\n",
       "      <th>Units Sold</th>\n",
       "      <th>Billings</th>\n",
       "    </tr>\n",
       "    <tr>\n",
       "      <th>Segment</th>\n",
       "      <th></th>\n",
       "      <th></th>\n",
       "    </tr>\n",
       "  </thead>\n",
       "  <tbody>\n",
       "    <tr>\n",
       "      <th>Goods</th>\n",
       "      <td>9952459.17</td>\n",
       "      <td>272245945.89</td>\n",
       "    </tr>\n",
       "    <tr>\n",
       "      <th>Local</th>\n",
       "      <td>7855128.45</td>\n",
       "      <td>246658220.46</td>\n",
       "    </tr>\n",
       "    <tr>\n",
       "      <th>Travel</th>\n",
       "      <td>366030.60</td>\n",
       "      <td>67506103.77</td>\n",
       "    </tr>\n",
       "    <tr>\n",
       "      <th>Total</th>\n",
       "      <td>18173618.22</td>\n",
       "      <td>586410270.12</td>\n",
       "    </tr>\n",
       "  </tbody>\n",
       "</table>\n",
       "</div>"
      ],
      "text/plain": [
       "         Units Sold     Billings\n",
       "Segment                         \n",
       "Goods    9952459.17 272245945.89\n",
       "Local    7855128.45 246658220.46\n",
       "Travel    366030.60  67506103.77\n",
       "Total   18173618.22 586410270.12"
      ]
     },
     "execution_count": 41,
     "metadata": {},
     "output_type": "execute_result"
    }
   ],
   "source": [
    "# Totals out of scientific notation\n",
    "\n",
    "pd.options.display.float_format = '{:.2f}'.format\n",
    "total_billing_Q42013"
   ]
  },
  {
   "cell_type": "code",
   "execution_count": 44,
   "metadata": {},
   "outputs": [
    {
     "data": {
      "text/html": [
       "<div>\n",
       "<style scoped>\n",
       "    .dataframe tbody tr th:only-of-type {\n",
       "        vertical-align: middle;\n",
       "    }\n",
       "\n",
       "    .dataframe tbody tr th {\n",
       "        vertical-align: top;\n",
       "    }\n",
       "\n",
       "    .dataframe thead th {\n",
       "        text-align: right;\n",
       "    }\n",
       "</style>\n",
       "<table border=\"1\" class=\"dataframe\">\n",
       "  <thead>\n",
       "    <tr style=\"text-align: right;\">\n",
       "      <th></th>\n",
       "      <th>October</th>\n",
       "      <th>November</th>\n",
       "      <th>December</th>\n",
       "    </tr>\n",
       "    <tr>\n",
       "      <th>Segment</th>\n",
       "      <th></th>\n",
       "      <th></th>\n",
       "      <th></th>\n",
       "    </tr>\n",
       "  </thead>\n",
       "  <tbody>\n",
       "    <tr>\n",
       "      <th>Goods</th>\n",
       "      <td>61,848,881</td>\n",
       "      <td>112,892,110</td>\n",
       "      <td>97,504,956</td>\n",
       "    </tr>\n",
       "    <tr>\n",
       "      <th>Local</th>\n",
       "      <td>59,235,033</td>\n",
       "      <td>90,662,147</td>\n",
       "      <td>60,823,666</td>\n",
       "    </tr>\n",
       "    <tr>\n",
       "      <th>Travel</th>\n",
       "      <td>20,229,532</td>\n",
       "      <td>24,637,104</td>\n",
       "      <td>22,639,468</td>\n",
       "    </tr>\n",
       "    <tr>\n",
       "      <th>Total</th>\n",
       "      <td>177,250,819</td>\n",
       "      <td>228,191,361</td>\n",
       "      <td>180,968,090</td>\n",
       "    </tr>\n",
       "  </tbody>\n",
       "</table>\n",
       "</div>"
      ],
      "text/plain": [
       "            October    November    December\n",
       "Segment                                    \n",
       "Goods    61,848,881 112,892,110  97,504,956\n",
       "Local    59,235,033  90,662,147  60,823,666\n",
       "Travel   20,229,532  24,637,104  22,639,468\n",
       "Total   177,250,819 228,191,361 180,968,090"
      ]
     },
     "execution_count": 44,
     "metadata": {},
     "output_type": "execute_result"
    }
   ],
   "source": [
    "# Split 4Q2013 into oct, nov, dec.\n",
    "\n",
    "october = Q42013_dups_dropped[(Q42013_dups_dropped['Start Date'] >= '2013-10-01') \n",
    "                              & (Q42013_dups_dropped['Start Date'] <= '2013-10-31')]\n",
    "november = Q42013_dups_dropped[(Q42013_dups_dropped['Start Date'] >= '2013-11-01') \n",
    "                              & (Q42013_dups_dropped['Start Date'] <= '2013-11-30')]\n",
    "december = Q42013_dups_dropped[(Q42013_dups_dropped['Start Date'] >= '2013-12-01') \n",
    "                              & (Q42013_dups_dropped['Start Date'] <= '2013-12-31')]\n",
    "\n",
    "# Group by segment showing the total of each segment for each month\n",
    "\n",
    "oct_billing = (october.groupby('Segment').sum()).drop(columns='Units Sold')\n",
    "nov_billing = (november.groupby('Segment').sum()).drop(columns='Units Sold')\n",
    "dec_billing = (december.groupby('Segment').sum()).drop(columns='Units Sold')\n",
    "\n",
    "# Adding a Total row.\n",
    "\n",
    "oct_total = oct_billing.iloc[0][0] + oct_billing.iloc[1][0] + oct_billing.iloc[2][0] + oct_missing_values\n",
    "nov_total = nov_billing.iloc[0][0] + nov_billing.iloc[1][0] + nov_billing.iloc[2][0]\n",
    "dec_total = dec_billing.iloc[0][0] + dec_billing.iloc[1][0] + dec_billing.iloc[2][0]\n",
    "index = ['Goods', 'Local', 'Travel', 'Total']\n",
    "\n",
    "# Creating the dataframe.\n",
    "\n",
    "by_month = pd.DataFrame(data={'October': [oct_billing.iloc[0][0], oct_billing.iloc[1][0], oct_billing.iloc[2][0], oct_total],\n",
    "                             'November': [nov_billing.iloc[0][0], nov_billing.iloc[1][0], nov_billing.iloc[2][0], nov_total],\n",
    "                             'December': [dec_billing.iloc[0][0], dec_billing.iloc[1][0], dec_billing.iloc[2][0], dec_total],\n",
    "                             'Segment': index})\n",
    "billings_by_month = by_month.set_index('Segment')\n",
    "\n",
    "# Adding commas for readability.\n",
    "\n",
    "pd.options.display.float_format = '{:,.0f}'.format\n",
    "\n",
    "billings_by_month"
   ]
  },
  {
   "cell_type": "markdown",
   "metadata": {},
   "source": [
    "### Additional Data Exploration (didn't lead to anything)"
   ]
  },
  {
   "cell_type": "markdown",
   "metadata": {},
   "source": [
    "#### \"Deal ID\" Beginning with two characters then a dash.\n",
    "\n",
    "I found all of the instances of -<number>. I originally thought the number signified the nth deal that company had with Groupon. I'm now seeing that some companies have their addresses or some other intentional number in the comapny name. It's also troubling for my theory that there aren't necessarily the same number of the company listed from 1 to n (n being the largest number after the company name). "
   ]
  },
  {
   "cell_type": "code",
   "execution_count": null,
   "metadata": {},
   "outputs": [],
   "source": [
    "# It looks like the same company introduces a new deal \n",
    "# it is counted as the same name with a number at the end.\n",
    "\n",
    "df['Deal ID'].str.contains('the-vanity-center').value_counts()"
   ]
  },
  {
   "cell_type": "code",
   "execution_count": null,
   "metadata": {},
   "outputs": [],
   "source": [
    "# Make a list of all observations that begin with -<number> in the \"Deal ID\" column.\n",
    "\n",
    "l = []\n",
    "for i in range(1000):\n",
    "    for _ in df['Deal ID']:\n",
    "        if _.endswith('-' + str(i)):\n",
    "            l.append(_)"
   ]
  },
  {
   "cell_type": "code",
   "execution_count": null,
   "metadata": {},
   "outputs": [],
   "source": [
    "len(l)"
   ]
  },
  {
   "cell_type": "code",
   "execution_count": null,
   "metadata": {},
   "outputs": [],
   "source": [
    "l"
   ]
  },
  {
   "cell_type": "code",
   "execution_count": null,
   "metadata": {},
   "outputs": [],
   "source": [
    "l[56000:]"
   ]
  },
  {
   "cell_type": "code",
   "execution_count": null,
   "metadata": {},
   "outputs": [],
   "source": [
    "yo = []\n",
    "for i in df['Deal ID']:\n",
    "    try: \n",
    "        if i.index('-', 2, 3):\n",
    "            yo.append(i)\n",
    "    except ValueError:\n",
    "        pass\n",
    "yall = []\n",
    "for i in yo:\n",
    "    yall.append(i[:2])"
   ]
  },
  {
   "cell_type": "code",
   "execution_count": null,
   "metadata": {},
   "outputs": [],
   "source": [
    "len(set(yall))"
   ]
  },
  {
   "cell_type": "code",
   "execution_count": null,
   "metadata": {},
   "outputs": [],
   "source": [
    "yort = pd.DataFrame(data={'test': yall})\n",
    "yort.test.value_counts().head()"
   ]
  },
  {
   "cell_type": "code",
   "execution_count": null,
   "metadata": {},
   "outputs": [],
   "source": [
    "# How many companies start with gg-? What does it mean?\n",
    "# Most of them correspond to \"First - Party\" and \"Goods\" under \"Deal ID\" and \"Inventory Type\", respectively.\n",
    "\n",
    "print(df[(df['Deal ID'].str.startswith('gg-'))].shape)\n",
    "df[(df['Deal ID'].str.startswith('gg-'))].head()"
   ]
  },
  {
   "cell_type": "code",
   "execution_count": null,
   "metadata": {},
   "outputs": [],
   "source": [
    "# 14623/15234 have \"First - Party\" under \"Inventory Type\"\n",
    "\n",
    "df[(df['Deal ID'].str.startswith('gg-') & df['Inventory Type'].str.contains('First - Party'))].shape"
   ]
  },
  {
   "cell_type": "code",
   "execution_count": null,
   "metadata": {},
   "outputs": [],
   "source": [
    "# All observations listed as \"Goods\" under \"segment\" start with 'gg-''\n",
    "\n",
    "df[(df['Deal ID'].str.startswith('gg-') & df['Segment'].str.contains('Goods'))].shape"
   ]
  },
  {
   "cell_type": "code",
   "execution_count": null,
   "metadata": {},
   "outputs": [],
   "source": []
  },
  {
   "cell_type": "code",
   "execution_count": null,
   "metadata": {},
   "outputs": [],
   "source": [
    "# How many companies start with gl? What does it mean? Local?\n",
    "\n",
    "print(df[(df['Deal ID'].str.startswith('gl-'))].shape)\n",
    "df[(df['Deal ID'].str.startswith('gl-'))].head()"
   ]
  },
  {
   "cell_type": "code",
   "execution_count": null,
   "metadata": {},
   "outputs": [],
   "source": [
    "# All Deal IDs that start with \"gl-\" have \"local\" for their segment\n",
    "\n",
    "df[(df['Deal ID'].str.startswith('gl-') & df['Segment'].str.contains('Local'))].shape"
   ]
  },
  {
   "cell_type": "code",
   "execution_count": null,
   "metadata": {},
   "outputs": [],
   "source": [
    "# They also all have \"Third - Party\" for their Inventory Type\n",
    "\n",
    "df[(df['Deal ID'].str.startswith('gl-') & df['Inventory Type'].str.contains('Third - Party'))].shape"
   ]
  },
  {
   "cell_type": "code",
   "execution_count": null,
   "metadata": {},
   "outputs": [],
   "source": [
    "# But there are far more Local segment types than that! What does gl- mean?\n",
    "\n",
    "df[(df['Segment'].str.contains('Local'))].shape"
   ]
  },
  {
   "cell_type": "markdown",
   "metadata": {},
   "source": [
    "Notes for tomorrow\n",
    "- Morgan Stanely is way off in their predictions (page 9). They are very optimistic about growth in local sales. Their estimate is like 300 higher than what I got. "
   ]
  }
 ],
 "metadata": {
  "kernelspec": {
   "display_name": "Python 3",
   "language": "python",
   "name": "python3"
  },
  "language_info": {
   "codemirror_mode": {
    "name": "ipython",
    "version": 3
   },
   "file_extension": ".py",
   "mimetype": "text/x-python",
   "name": "python",
   "nbconvert_exporter": "python",
   "pygments_lexer": "ipython3",
   "version": "3.8.1"
  }
 },
 "nbformat": 4,
 "nbformat_minor": 4
}
